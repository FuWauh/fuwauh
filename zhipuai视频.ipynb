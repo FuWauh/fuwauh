{
 "cells": [
  {
   "cell_type": "code",
   "execution_count": 4,
   "id": "5f4c9598",
   "metadata": {},
   "outputs": [
    {
     "name": "stdout",
     "output_type": "stream",
     "text": [
      "VideoObject(id='69751732174559569-9203423356365386075', model='cogvideox', video_result=None, task_status='PROCESSING', request_id='-9203423356365386079')\n"
     ]
    }
   ],
   "source": [
    "from zhipuai import ZhipuAI\n",
    "client = ZhipuAI(api_key = \"7c04b025a373876fec4ac7f38a76b47f.cq9HcNC85cfAHEWh\")\n",
    "\n",
    "response = client.videos.generations(\n",
    "    model = \"cogvideox\",\n",
    "    prompt = \"方今天下一统，九州晏如。顾西尚有违命之蜀，东有不臣之吴，使边境未得税甲，谋士未得高枕者，诚欲混同宇内，以致太和也。故启灭有扈而夏功昭，成克商、奄而周德著。\"\n",
    ")\n",
    "print(response)"
   ]
  },
  {
   "cell_type": "code",
   "execution_count": 6,
   "id": "cd949b21",
   "metadata": {},
   "outputs": [
    {
     "name": "stdout",
     "output_type": "stream",
     "text": [
      "VideoObject(id=None, model='cogvideox', video_result=[VideoResult(url='https://aigc-files.bigmodel.cn/api/cogvideo/5802c384-ac97-11ef-8bda-8e43cc144737_0.mp4', cover_image_url='https://aigc-files.bigmodel.cn/api/cogvideo/5802c384-ac97-11ef-8bda-8e43cc144737_cover_0.jpeg')], task_status='SUCCESS', request_id='-9203423356365386079')\n"
     ]
    }
   ],
   "source": [
    "from zhipuai import ZhipuAI\n",
    "\n",
    "response = client.videos.retrieve_videos_result(\n",
    "    id = \"69751732174559569-9203423356365386075\"\n",
    ")\n",
    "print(response)"
   ]
  },
  {
   "cell_type": "code",
   "execution_count": null,
   "id": "8a4567fc",
   "metadata": {},
   "outputs": [],
   "source": []
  },
  {
   "cell_type": "code",
   "execution_count": null,
   "id": "7b588129",
   "metadata": {},
   "outputs": [],
   "source": []
  }
 ],
 "metadata": {
  "kernelspec": {
   "display_name": "Python 3",
   "language": "python",
   "name": "python3"
  },
  "language_info": {
   "codemirror_mode": {
    "name": "ipython",
    "version": 3
   },
   "file_extension": ".py",
   "mimetype": "text/x-python",
   "name": "python",
   "nbconvert_exporter": "python",
   "pygments_lexer": "ipython3",
   "version": "3.8.8"
  }
 },
 "nbformat": 4,
 "nbformat_minor": 5
}
